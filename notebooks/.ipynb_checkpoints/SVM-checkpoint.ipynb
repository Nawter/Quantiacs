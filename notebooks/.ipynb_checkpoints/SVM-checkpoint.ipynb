{
 "cells": [
  {
   "cell_type": "code",
   "execution_count": 75,
   "metadata": {},
   "outputs": [
    {
     "name": "stdout",
     "output_type": "stream",
     "text": [
      "Requirement already satisfied: ta-lib in /home/zeyd/anaconda3/envs/py27/lib/python2.7/site-packages\n",
      "Requirement already satisfied: numpy in /home/zeyd/anaconda3/envs/py27/lib/python2.7/site-packages (from ta-lib)\n",
      "\u001b[33mYou are using pip version 9.0.3, however version 10.0.1 is available.\n",
      "You should consider upgrading via the 'pip install --upgrade pip' command.\u001b[0m\n"
     ]
    }
   ],
   "source": [
    "!pip install ta-lib"
   ]
  },
  {
   "cell_type": "code",
   "execution_count": 1,
   "metadata": {},
   "outputs": [],
   "source": [
    "import quantiacsToolbox\n",
    "import matplotlib.pyplot as plt\n",
    "import numpy as np\n",
    "import pandas as pd\n",
    "from sklearn import svm\n",
    "import talib\n",
    "import sys\n",
    "from sklearn.metrics import mean_squared_error, r2_score\n",
    "%matplotlib inline"
   ]
  },
  {
   "cell_type": "code",
   "execution_count": 2,
   "metadata": {},
   "outputs": [
    {
     "data": {
      "text/plain": [
       "[<matplotlib.lines.Line2D at 0x7fe802eddf10>]"
      ]
     },
     "execution_count": 2,
     "metadata": {},
     "output_type": "execute_result"
    },
    {
     "data": {
      "image/png": "[encoded data removed]",
      "text/plain": [
       "<Figure size 432x288 with 1 Axes>"
      ]
     },
     "metadata": {},
     "output_type": "display_data"
    }
   ],
   "source": [
    "F_BP = pd.read_csv('./tickerData/F_BP.txt')\n",
    "CLOSE = np.array(F_BP.loc[:252-1, [' CLOSE']])\n",
    "plt.plot(CLOSE)"
   ]
  },
  {
   "cell_type": "code",
   "execution_count": 3,
   "metadata": {},
   "outputs": [
    {
     "name": "stdout",
     "output_type": "stream",
     "text": [
      "(247,)\n"
     ]
    }
   ],
   "source": [
    "X = np.concatenate([CLOSE[i:i+5] for i in range(252-5)], axis=1).T\n",
    "y = np.sign((CLOSE[5:] - CLOSE[5-1: -1]).T[0])\n",
    "print(y.shape)"
   ]
  },
  {
   "cell_type": "code",
   "execution_count": 4,
   "metadata": {},
   "outputs": [
    {
     "name": "stdout",
     "output_type": "stream",
     "text": [
      "(1,)\n"
     ]
    }
   ],
   "source": [
    "clf = svm.SVC()\n",
    "clf.fit(X, y)\n",
    "y_pred = clf.predict(CLOSE[-5:].T)\n",
    "print(y_pred.shape)"
   ]
  },
  {
   "cell_type": "code",
   "execution_count": 5,
   "metadata": {},
   "outputs": [
    {
     "data": {
      "text/html": [
       "<div>\n",
       "<style scoped>\n",
       "    .dataframe tbody tr th:only-of-type {\n",
       "        vertical-align: middle;\n",
       "    }\n",
       "\n",
       "    .dataframe tbody tr th {\n",
       "        vertical-align: top;\n",
       "    }\n",
       "\n",
       "    .dataframe thead th {\n",
       "        text-align: right;\n",
       "    }\n",
       "</style>\n",
       "<table border=\"1\" class=\"dataframe\">\n",
       "  <thead>\n",
       "    <tr style=\"text-align: right;\">\n",
       "      <th></th>\n",
       "      <th>DATE</th>\n",
       "      <th>CLOSE</th>\n",
       "    </tr>\n",
       "  </thead>\n",
       "  <tbody>\n",
       "    <tr>\n",
       "      <th>251</th>\n",
       "      <td>19901228</td>\n",
       "      <td>119100.0</td>\n",
       "    </tr>\n",
       "    <tr>\n",
       "      <th>252</th>\n",
       "      <td>19901231</td>\n",
       "      <td>119337.5</td>\n",
       "    </tr>\n",
       "  </tbody>\n",
       "</table>\n",
       "</div>"
      ],
      "text/plain": [
       "         DATE     CLOSE\n",
       "251  19901228  119100.0\n",
       "252  19901231  119337.5"
      ]
     },
     "execution_count": 5,
     "metadata": {},
     "output_type": "execute_result"
    }
   ],
   "source": [
    "F_BP.loc[251:252, ['DATE', ' CLOSE']]"
   ]
  },
  {
   "cell_type": "code",
   "execution_count": 1,
   "metadata": {},
   "outputs": [],
   "source": [
    "class myStrategy(object):\n",
    "\n",
    "    def myTradingSystem(self, DATE, OPEN, HIGH, LOW, CLOSE, VOL, OI, P, R, RINFO, exposure, equity, settings):\n",
    "        \"\"\"\n",
    "        For 4 lookback days and 3 markets, CLOSE is a numpy array looks like\n",
    "        [[ 12798.   11537.5   9010. ]\n",
    "         [ 12822.   11487.5   9020. ]\n",
    "         [ 12774.   11462.5   8940. ]\n",
    "         [ 12966.   11587.5   9220. ]]\n",
    "        \"\"\"\n",
    "\n",
    "        # define helper function\n",
    "        # use close price predict the trend of the next day\n",
    "        def predict(CLOSE, gap):\n",
    "            lookback = CLOSE.shape[0]\n",
    "            X = np.concatenate([CLOSE[i:i + gap] for i in range(lookback - gap)], axis=1).T \n",
    "            print(X)\n",
    "            y = np.sign((CLOSE[gap:lookback] - CLOSE[gap - 1:lookback - 1]).T[0])\n",
    "            y[y==0] = 1    \n",
    "            print(y)\n",
    "            #print(X.shape)\n",
    "            clf = svm.SVC()\n",
    "            clf.fit(X, y)            \n",
    "       \n",
    "            y_pred = clf.predict(CLOSE[-gap:].T) \n",
    "            #print(y_pred) \n",
    "            print(y_pred)\n",
    "            return y_pred\n",
    "\n",
    "        nMarkets = len(settings['markets'])\n",
    "        gap = settings['gap']\n",
    "\n",
    "        pos = np.zeros((1, nMarkets), dtype='float')\n",
    "        for i in range(nMarkets):\n",
    "            try:\n",
    "                pos[0, i] = predict(CLOSE[:, i].reshape(-1, 1),\n",
    "                                    gap, )\n",
    "             \n",
    "\n",
    "            # for NaN data set position to 0\n",
    "            except ValueError:\n",
    "                pos[0, i] = 0.\n",
    "     \n",
    "        return pos, settings\n",
    "\n",
    "\n",
    "    def mySettings(self):\n",
    "        \"\"\" Define your trading system settings here \"\"\"\n",
    "\n",
    "        settings = {}\n",
    "\n",
    "        # Futures Contracts\n",
    "        settings['markets'] = ['F_CL']\n",
    "\n",
    "        settings['lookback'] = 50\n",
    "        settings['budget'] = 10 ** 6\n",
    "        settings['slippage'] = 0.05\n",
    "\n",
    "        settings['gap'] = 5\n",
    "\n",
    "        return settings"
   ]
  },
  {
   "cell_type": "code",
   "execution_count": 2,
   "metadata": {},
   "outputs": [
    {
     "ename": "NameError",
     "evalue": "name 'quantiacsToolbox' is not defined",
     "output_type": "error",
     "traceback": [
      "\u001b[0;31m---------------------------------------------------------------------------\u001b[0m",
      "\u001b[0;31mNameError\u001b[0m                                 Traceback (most recent call last)",
      "\u001b[0;32m<ipython-input-2-501d57b4c5ba>\u001b[0m in \u001b[0;36m<module>\u001b[0;34m()\u001b[0m\n\u001b[0;32m----> 1\u001b[0;31m \u001b[0mresult\u001b[0m \u001b[0;34m=\u001b[0m \u001b[0mquantiacsToolbox\u001b[0m\u001b[0;34m.\u001b[0m\u001b[0mrunts\u001b[0m\u001b[0;34m(\u001b[0m\u001b[0mmyStrategy\u001b[0m\u001b[0;34m)\u001b[0m\u001b[0;34m\u001b[0m\u001b[0m\n\u001b[0m",
      "\u001b[0;31mNameError\u001b[0m: name 'quantiacsToolbox' is not defined"
     ]
    }
   ],
   "source": [
    "result = quantiacsToolbox.runts(myStrategy)"
   ]
  },
  {
   "cell_type": "code",
   "execution_count": null,
   "metadata": {},
   "outputs": [],
   "source": []
  },
  {
   "cell_type": "code",
   "execution_count": null,
   "metadata": {},
   "outputs": [],
   "source": []
  }
 ],
 "metadata": {
  "kernelspec": {
   "display_name": "Python 3",
   "language": "python",
   "name": "python3"
  },
  "language_info": {
   "codemirror_mode": {
    "name": "ipython",
    "version": 3
   },
   "file_extension": ".py",
   "mimetype": "text/x-python",
   "name": "python",
   "nbconvert_exporter": "python",
   "pygments_lexer": "ipython3",
   "version": "3.6.4"
  }
 },
 "nbformat": 4,
 "nbformat_minor": 2
}
